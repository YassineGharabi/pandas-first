{
 "cells": [
  {
   "cell_type": "code",
   "execution_count": 340,
   "id": "6571d7e2",
   "metadata": {},
   "outputs": [
    {
     "name": "stdout",
     "output_type": "stream",
     "text": [
      "first\n"
     ]
    }
   ],
   "source": [
    "print(\"first\")"
   ]
  },
  {
   "cell_type": "code",
   "execution_count": 341,
   "id": "77fc3ac3",
   "metadata": {},
   "outputs": [
    {
     "name": "stdout",
     "output_type": "stream",
     "text": [
      "first\n"
     ]
    }
   ],
   "source": [
    "print(\"first\")"
   ]
  },
  {
   "cell_type": "code",
   "execution_count": 342,
   "id": "96b92d08",
   "metadata": {},
   "outputs": [
    {
     "name": "stdout",
     "output_type": "stream",
     "text": [
      "    cars  passings\n",
      "0    BMW         3\n",
      "1  Volvo         7\n",
      "2   Ford         2\n"
     ]
    }
   ],
   "source": [
    "import pandas as pd\n",
    "\n",
    "mydataset = {\n",
    "  'cars': [\"BMW\", \"Volvo\", \"Ford\"],\n",
    "  'passings': [3, 7, 2]\n",
    "}\n",
    "\n",
    "var = pd.DataFrame(mydataset)\n",
    "\n",
    "print(var)"
   ]
  },
  {
   "cell_type": "code",
   "execution_count": 343,
   "id": "68d5e74d",
   "metadata": {},
   "outputs": [
    {
     "name": "stdout",
     "output_type": "stream",
     "text": [
      "0    1\n",
      "1    7\n",
      "2    2\n",
      "dtype: int64\n"
     ]
    }
   ],
   "source": [
    "import pandas as pd\n",
    "\n",
    "a = [1, 7, 2]\n",
    "\n",
    "var = pd.Series(a)\n",
    "\n",
    "print(var)"
   ]
  },
  {
   "cell_type": "code",
   "execution_count": 344,
   "id": "75039f98",
   "metadata": {},
   "outputs": [
    {
     "name": "stdout",
     "output_type": "stream",
     "text": [
      "laptop    1\n",
      "pc        7\n",
      "tablet    2\n",
      "dtype: int64\n"
     ]
    }
   ],
   "source": [
    "import pandas as pd\n",
    "\n",
    "a = [1, 7, 2]\n",
    "\n",
    "var = pd.Series( a , index = [ \"laptop\" , \"pc\" , \"tablet\" ] )\n",
    "\n",
    "print(var) # var[\"pc\"] -> 7\n"
   ]
  },
  {
   "cell_type": "code",
   "execution_count": 345,
   "id": "53690db4",
   "metadata": {},
   "outputs": [
    {
     "name": "stdout",
     "output_type": "stream",
     "text": [
      "day1    420\n",
      "day2    380\n",
      "day3    390\n",
      "dtype: int64\n"
     ]
    }
   ],
   "source": [
    "import pandas as pd\n",
    "\n",
    "calories = {\"day1\": 420, \"day2\": 380, \"day3\": 390}\n",
    "\n",
    "var = pd.Series(calories) # To select only some of the items in the dictionary -> pd.Series(calories , index = [\"day1\",\"day3\"] )\n",
    "\n",
    "print(var)"
   ]
  },
  {
   "cell_type": "code",
   "execution_count": 346,
   "id": "90bc2759",
   "metadata": {},
   "outputs": [
    {
     "name": "stdout",
     "output_type": "stream",
     "text": [
      "   calories  duration\n",
      "0       420        50\n",
      "1       380        40\n",
      "2       390        45\n"
     ]
    }
   ],
   "source": [
    "import pandas as pd\n",
    "\n",
    "data = {\n",
    "  \"calories\": [420, 380, 390],\n",
    "  \"duration\": [50, 40, 45]\n",
    "}\n",
    "\n",
    "var = pd.DataFrame(data)\n",
    "\n",
    "print(var)"
   ]
  },
  {
   "cell_type": "code",
   "execution_count": 347,
   "id": "6087fc5f",
   "metadata": {},
   "outputs": [
    {
     "name": "stdout",
     "output_type": "stream",
     "text": [
      "   calories  duration\n",
      "0       420        50\n",
      "1       380        40\n"
     ]
    }
   ],
   "source": [
    "import pandas as pd\n",
    "\n",
    "data = {\n",
    "  \"calories\": [420, 380, 390],\n",
    "  \"duration\": [50, 40, 45]\n",
    "}\n",
    "\n",
    "var = pd.DataFrame(data)\n",
    "\n",
    "# print(var.loc[1]) # => return pandas series\n",
    "print(var.loc[[0,1]])"
   ]
  },
  {
   "cell_type": "code",
   "execution_count": 348,
   "id": "84c2f0f6",
   "metadata": {},
   "outputs": [
    {
     "name": "stdout",
     "output_type": "stream",
     "text": [
      "calories    380\n",
      "duration     40\n",
      "Name: D2, dtype: int64\n"
     ]
    }
   ],
   "source": [
    "import pandas as pd\n",
    "\n",
    "data = {\n",
    "  \"calories\": [420, 380, 390],\n",
    "  \"duration\": [50, 40, 45]\n",
    "}\n",
    "\n",
    "var = pd.DataFrame(data, index= [\"D1\" , \"D2\" , \"D3\"])\n",
    "print(var.loc[\"D2\"])\n",
    "\n"
   ]
  },
  {
   "cell_type": "code",
   "execution_count": 349,
   "id": "756a6666",
   "metadata": {},
   "outputs": [
    {
     "name": "stdout",
     "output_type": "stream",
     "text": [
      "           Date     Produit     Catégorie  Quantité  PrixUnitaire    Magasin\n",
      "0     4/13/2022  Smartphone          Mode        10       1009.00       Lyon\n",
      "1     3/12/2023    Pantalon  Électronique         2        782.86      Paris\n",
      "2     9/28/2022    Pantalon          Mode        19       1159.62   Bordeaux\n",
      "3     4/17/2022     Fromage  Électronique         9        782.64   Bordeaux\n",
      "4     3/13/2022          TV          Mode         7       1279.01  Marseille\n",
      "..          ...         ...           ...       ...           ...        ...\n",
      "195   4/17/2023     T-shirt   Alimentaire        17       1122.68   Bordeaux\n",
      "196   8/21/2022  Chaussures   Alimentaire         8        756.57       Lyon\n",
      "197  11/23/2023      Laptop  Électronique         2        352.16       Lyon\n",
      "198   4/23/2022  Chaussures          Mode         8       1349.86   Bordeaux\n",
      "199   5/12/2023      Laptop  Électronique         7        578.92  Marseille\n",
      "\n",
      "[200 rows x 6 columns]\n",
      "           Date     Produit     Catégorie  Quantité  PrixUnitaire    Magasin\n",
      "0     4/13/2022  Smartphone          Mode        10       1009.00       Lyon\n",
      "1     3/12/2023    Pantalon  Électronique         2        782.86      Paris\n",
      "2     9/28/2022    Pantalon          Mode        19       1159.62   Bordeaux\n",
      "3     4/17/2022     Fromage  Électronique         9        782.64   Bordeaux\n",
      "4     3/13/2022          TV          Mode         7       1279.01  Marseille\n",
      "5     12/2/2023  Smartphone   Alimentaire         4        830.10  Marseille\n",
      "6     1/21/2022     T-shirt  Électronique        18        843.60  Marseille\n",
      "7      9/7/2023      Laptop  Électronique        13       1315.60       Lyon\n",
      "8      5/2/2022        Pain  Électronique        11        608.21       Lyon\n",
      "9     4/12/2023      Laptop  Électronique         4        205.35  Marseille\n",
      "10     8/3/2022  Chaussures          Mode         4         48.03  Marseille\n",
      "11   11/27/2022      Laptop  Électronique        10       1133.93  Marseille\n",
      "12     4/4/2023     T-shirt   Alimentaire         5        932.36   Bordeaux\n",
      "13    3/29/2022      Laptop   Alimentaire         9       1057.60       Lyon\n",
      "14     1/8/2023  Smartphone  Électronique         3        323.38   Bordeaux\n",
      "15    4/10/2022  Smartphone   Alimentaire        17        208.88   Bordeaux\n",
      "16   10/26/2023    Pantalon  Électronique         3         26.74  Marseille\n",
      "17    5/11/2022     Fromage  Électronique        16        529.13  Marseille\n",
      "18   10/24/2023          TV   Alimentaire         4        886.93      Paris\n",
      "19    11/5/2022        Pain  Électronique        18        591.40      Paris\n",
      "20   12/10/2022  Chaussures   Alimentaire        17        659.03   Bordeaux\n",
      "21     5/7/2023      Laptop          Mode         7       1356.72       Lyon\n",
      "22    2/18/2023      Laptop  Électronique         5        525.64  Marseille\n",
      "23    1/21/2023     T-shirt          Mode        12        773.41  Marseille\n",
      "24    7/11/2022     Fromage   Alimentaire        17       1176.56   Bordeaux\n",
      "25    10/4/2022  Smartphone          Mode        13        597.83      Paris\n",
      "26    6/10/2022        Pain          Mode         3        935.02       Lyon\n",
      "27     4/5/2023    Pantalon   Alimentaire         9       1294.23      Paris\n",
      "28   11/10/2022  Smartphone          Mode        17       1424.53      Paris\n",
      "29    1/22/2022  Chaussures          Mode        17        224.87      Paris\n",
      "30    9/10/2022     Fromage   Alimentaire        16       1390.25      Paris\n",
      "31    7/15/2023  Chaussures          Mode        13        740.71  Marseille\n",
      "32    4/20/2023          TV   Alimentaire        19        391.08  Marseille\n",
      "33    2/28/2022    Pantalon          Mode        17        691.41      Paris\n",
      "34    5/26/2023          TV   Alimentaire         4       1470.15       Lyon\n",
      "35   11/13/2023     T-shirt   Alimentaire        12        741.46   Bordeaux\n",
      "36    4/21/2023  Chaussures          Mode         9        496.48       Lyon\n",
      "37    12/1/2023     T-shirt          Mode        19        951.93       Lyon\n",
      "38     7/9/2022      Laptop          Mode        12        364.02       Lyon\n",
      "39   11/18/2023          TV  Électronique         9        118.42      Paris\n",
      "40    7/17/2023     Fromage  Électronique         7        197.68  Marseille\n",
      "41    7/21/2023  Chaussures  Électronique        14        196.43       Lyon\n",
      "42     9/1/2022        Pain   Alimentaire        19        232.09      Paris\n",
      "43    5/20/2023    Pantalon          Mode        15        212.55       Lyon\n",
      "44    5/11/2022  Smartphone   Alimentaire        16        963.11       Lyon\n",
      "45    4/30/2023     Fromage  Électronique         5        276.91      Paris\n",
      "46    10/9/2023     Fromage          Mode         3        521.77  Marseille\n",
      "47    1/21/2022     T-shirt   Alimentaire        12       1345.70  Marseille\n",
      "48    6/16/2022          TV          Mode         4        713.57   Bordeaux\n",
      "49    10/1/2022  Chaussures   Alimentaire        16       1003.00      Paris\n",
      "50    1/23/2023  Chaussures          Mode         7        262.62   Bordeaux\n",
      "51    8/24/2023      Laptop  Électronique        13        292.47   Bordeaux\n",
      "52   11/12/2022      Laptop  Électronique        10         66.10   Bordeaux\n",
      "53    1/14/2022    Pantalon          Mode         7        257.56  Marseille\n",
      "54    8/30/2022     T-shirt   Alimentaire        14        421.49      Paris\n",
      "55   12/12/2022     Fromage  Électronique         5        269.63   Bordeaux\n",
      "56    7/19/2023  Chaussures  Électronique         3        137.61      Paris\n",
      "57    12/6/2022        Pain  Électronique        11        185.35      Paris\n",
      "58     4/2/2022     T-shirt          Mode        11        693.86  Marseille\n",
      "59     1/2/2023    Pantalon          Mode        18        313.47   Bordeaux\n",
      "60    3/31/2023    Pantalon   Alimentaire        15        549.58   Bordeaux\n",
      "61     3/4/2023     T-shirt   Alimentaire        12        757.61      Paris\n",
      "62    5/24/2023    Pantalon   Alimentaire         9       1037.14       Lyon\n",
      "63     2/4/2022     T-shirt          Mode        10         63.77  Marseille\n",
      "64    7/25/2022  Smartphone          Mode        12       1200.12  Marseille\n",
      "65    3/22/2022     T-shirt   Alimentaire        17        943.71  Marseille\n",
      "66    7/16/2023          TV   Alimentaire         6        127.23  Marseille\n",
      "67    1/23/2023     T-shirt          Mode         7       1311.00   Bordeaux\n",
      "68     1/2/2022    Pantalon   Alimentaire        14       1381.70   Bordeaux\n",
      "69    1/25/2023  Chaussures  Électronique        13         96.31       Lyon\n",
      "70    7/20/2023          TV          Mode         8        418.93  Marseille\n",
      "71    4/16/2022    Pantalon   Alimentaire        10       1210.27  Marseille\n",
      "72    4/22/2023      Laptop          Mode         9       1123.65      Paris\n",
      "73    12/4/2023      Laptop  Électronique        18        280.86   Bordeaux\n",
      "74     2/6/2023  Chaussures          Mode         2        317.98  Marseille\n",
      "75   12/31/2023  Chaussures          Mode         5        558.86       Lyon\n",
      "76    7/10/2023          TV          Mode         5        729.36       Lyon\n",
      "77    6/11/2022  Smartphone          Mode         6        929.29   Bordeaux\n",
      "78    7/21/2022  Chaussures  Électronique        19        556.53       Lyon\n",
      "79    9/27/2022      Laptop          Mode         8        696.49       Lyon\n",
      "80    9/28/2022     T-shirt          Mode        16       1122.47   Bordeaux\n",
      "81     4/1/2023    Pantalon   Alimentaire        13         59.84  Marseille\n",
      "82     4/7/2023      Laptop          Mode         1        382.39  Marseille\n",
      "83   12/28/2023      Laptop   Alimentaire        17       1071.46       Lyon\n",
      "84     9/9/2022  Smartphone  Électronique         7       1343.33       Lyon\n",
      "85    12/3/2023          TV  Électronique        13        769.96  Marseille\n",
      "86   10/23/2022          TV  Électronique         4        800.51   Bordeaux\n",
      "87   12/26/2023     Fromage  Électronique         4        165.22       Lyon\n",
      "88   12/21/2023  Smartphone   Alimentaire         6        673.88      Paris\n",
      "89    12/4/2022     T-shirt          Mode        19        801.26   Bordeaux\n",
      "90    2/22/2022          TV  Électronique        12        367.49       Lyon\n",
      "91     8/5/2022    Pantalon          Mode         7        407.52       Lyon\n",
      "92     7/7/2022  Chaussures   Alimentaire        10        569.04      Paris\n",
      "93    1/15/2023  Smartphone   Alimentaire        19         35.01      Paris\n",
      "94     5/8/2023  Chaussures   Alimentaire         7        486.51  Marseille\n",
      "95    2/10/2022      Laptop  Électronique         3        321.11   Bordeaux\n",
      "96     6/6/2022    Pantalon          Mode        13        494.61   Bordeaux\n",
      "97    1/15/2022    Pantalon          Mode        13        184.04  Marseille\n",
      "98     3/6/2022      Laptop          Mode        18       1336.34   Bordeaux\n",
      "99     6/5/2023  Smartphone   Alimentaire         8        892.42   Bordeaux\n",
      "100  12/10/2022      Laptop  Électronique         9       1020.26   Bordeaux\n",
      "101    5/9/2022  Chaussures   Alimentaire         7       1184.81   Bordeaux\n",
      "102  10/10/2023     Fromage   Alimentaire         1        750.17   Bordeaux\n",
      "103   4/17/2023    Pantalon          Mode         3        134.95      Paris\n",
      "104    3/4/2022        Pain   Alimentaire        13        807.97   Bordeaux\n",
      "105   5/19/2022        Pain          Mode        17        882.33      Paris\n",
      "106   5/14/2023  Chaussures  Électronique         1       1119.43   Bordeaux\n",
      "107   8/16/2023     T-shirt          Mode         6        650.33  Marseille\n",
      "108   1/27/2023          TV  Électronique         6        195.73       Lyon\n",
      "109   11/6/2023      Laptop          Mode        12        429.24      Paris\n",
      "110   2/23/2023      Laptop   Alimentaire        13        547.81   Bordeaux\n",
      "111  10/16/2022     T-shirt   Alimentaire        13        970.65  Marseille\n",
      "112   1/14/2023     T-shirt  Électronique        15        858.31       Lyon\n",
      "113    5/5/2023  Chaussures  Électronique        16        537.36      Paris\n",
      "114   8/19/2022  Chaussures  Électronique        11       1479.84       Lyon\n",
      "115   2/10/2022     T-shirt          Mode         5        910.63  Marseille\n",
      "116   1/28/2022    Pantalon          Mode         4        359.65      Paris\n",
      "117   5/15/2022  Chaussures  Électronique         3        157.16       Lyon\n",
      "118   7/20/2022     Fromage   Alimentaire        19        233.52   Bordeaux\n",
      "119    2/2/2022  Chaussures          Mode        18        372.71      Paris\n",
      "120   2/17/2022      Laptop          Mode        15        245.22       Lyon\n",
      "121   5/18/2023  Chaussures          Mode         9        283.92  Marseille\n",
      "122   2/11/2023    Pantalon  Électronique        17        431.22  Marseille\n",
      "123   7/28/2023     T-shirt  Électronique        14        264.19      Paris\n",
      "124  12/29/2023      Laptop  Électronique        15       1345.66       Lyon\n",
      "125    4/9/2022  Chaussures  Électronique         1        124.95      Paris\n",
      "126  11/15/2023    Pantalon  Électronique         3        789.14      Paris\n",
      "127  12/27/2023     Fromage   Alimentaire        16        618.54       Lyon\n",
      "128    7/1/2023  Chaussures   Alimentaire        11       1473.66       Lyon\n",
      "129    9/5/2023    Pantalon  Électronique        12        172.50   Bordeaux\n",
      "130    4/7/2023     Fromage          Mode        10        599.79       Lyon\n",
      "131   10/5/2023     T-shirt  Électronique        16       1454.36  Marseille\n",
      "132    1/5/2022  Chaussures   Alimentaire         8       1298.93      Paris\n",
      "133    8/6/2022     Fromage   Alimentaire         6       1226.52      Paris\n",
      "134   5/18/2023      Laptop          Mode        12        390.56  Marseille\n",
      "135    2/2/2023     T-shirt   Alimentaire         8        260.48       Lyon\n",
      "136   1/28/2023      Laptop  Électronique         4       1004.62  Marseille\n",
      "137   7/26/2022        Pain          Mode         8       1394.42  Marseille\n",
      "138   1/15/2022  Smartphone  Électronique        18        837.36   Bordeaux\n",
      "139    7/8/2023  Chaussures  Électronique         5        859.56  Marseille\n",
      "140    4/6/2023     Fromage          Mode         9        423.57      Paris\n",
      "141  11/22/2023  Smartphone  Électronique         4       1155.39  Marseille\n",
      "142   7/29/2023  Smartphone   Alimentaire        17        284.63      Paris\n",
      "143   8/29/2022     Fromage  Électronique         9        488.90      Paris\n",
      "144   7/18/2023     T-shirt          Mode         1        641.03      Paris\n",
      "145    4/6/2022  Chaussures          Mode        13        763.88       Lyon\n",
      "146   4/30/2023        Pain          Mode        16        367.40   Bordeaux\n",
      "147   2/11/2023      Laptop  Électronique        13        176.68      Paris\n",
      "148   8/19/2022    Pantalon          Mode        14        917.88      Paris\n",
      "149  10/17/2023      Laptop          Mode         3        436.50       Lyon\n",
      "150   6/20/2022    Pantalon  Électronique         6        873.95      Paris\n",
      "151   6/25/2023      Laptop   Alimentaire        18        235.77  Marseille\n",
      "152    2/5/2022     Fromage  Électronique        19        724.30  Marseille\n",
      "153    6/9/2023        Pain          Mode         5        801.22   Bordeaux\n",
      "154    6/9/2022  Chaussures          Mode        15         82.48      Paris\n",
      "155  11/30/2023    Pantalon  Électronique         2        508.22       Lyon\n",
      "156   8/31/2022  Chaussures   Alimentaire        10        205.95  Marseille\n",
      "157   3/27/2022  Chaussures          Mode        18         99.75       Lyon\n",
      "158    8/1/2023  Chaussures          Mode        13       1484.99       Lyon\n",
      "159  11/13/2023          TV          Mode         5        486.92  Marseille\n",
      "160   7/11/2023     T-shirt  Électronique         1       1215.76       Lyon\n",
      "161   7/28/2023      Laptop          Mode         1        385.69  Marseille\n",
      "162   10/8/2023  Chaussures   Alimentaire        18       1023.85       Lyon\n",
      "163   1/28/2022      Laptop          Mode        15       1141.54  Marseille\n",
      "164   9/12/2023  Chaussures          Mode        17        895.48      Paris\n",
      "165   7/10/2023    Pantalon   Alimentaire        11        710.01   Bordeaux\n",
      "166   12/6/2022     T-shirt          Mode        17        620.70  Marseille\n",
      "167  11/27/2022     T-shirt  Électronique        13        526.56  Marseille\n",
      "168   10/2/2023     Fromage  Électronique         1       1394.65   Bordeaux\n",
      "169   5/21/2023          TV  Électronique         2       1246.78  Marseille\n",
      "170  12/14/2022     Fromage   Alimentaire         9       1447.72  Marseille\n",
      "171   4/18/2023     Fromage          Mode         3        190.82       Lyon\n",
      "172   8/19/2022     Fromage  Électronique         1       1097.65   Bordeaux\n",
      "173    7/9/2022     Fromage   Alimentaire        16       1407.82      Paris\n",
      "174   8/13/2022     Fromage          Mode         6        275.94  Marseille\n",
      "175   1/20/2023        Pain   Alimentaire        17        104.41   Bordeaux\n",
      "176   1/12/2023     T-shirt  Électronique         5       1112.98       Lyon\n",
      "177  10/10/2022     Fromage  Électronique         5        863.84      Paris\n",
      "178   9/25/2023  Chaussures  Électronique         6       1263.53   Bordeaux\n",
      "179   9/20/2023     T-shirt   Alimentaire         3        213.96      Paris\n",
      "180   9/16/2022     T-shirt   Alimentaire         5       1193.92      Paris\n",
      "181  12/25/2022  Smartphone  Électronique         5        306.43      Paris\n",
      "182  12/11/2023        Pain   Alimentaire        10        249.67  Marseille\n",
      "183    4/1/2023     Fromage  Électronique        10        250.58  Marseille\n",
      "184   2/15/2023      Laptop  Électronique        19       1222.79       Lyon\n",
      "185  10/11/2023    Pantalon          Mode        17        999.47       Lyon\n",
      "186  11/14/2022          TV   Alimentaire        14        786.98   Bordeaux\n",
      "187   11/8/2023  Chaussures  Électronique         9        541.45       Lyon\n",
      "188   8/13/2022      Laptop  Électronique        14       1316.41      Paris\n",
      "189   8/22/2022        Pain   Alimentaire         1        591.71      Paris\n",
      "190  11/15/2023    Pantalon          Mode        19       1225.82  Marseille\n",
      "191  10/26/2023        Pain          Mode        13        661.51      Paris\n",
      "192    1/9/2023  Chaussures  Électronique        13        568.53   Bordeaux\n",
      "193   11/3/2023     T-shirt   Alimentaire         4        696.71      Paris\n",
      "194   8/31/2023    Pantalon          Mode         1        455.56      Paris\n",
      "195   4/17/2023     T-shirt   Alimentaire        17       1122.68   Bordeaux\n",
      "196   8/21/2022  Chaussures   Alimentaire         8        756.57       Lyon\n",
      "197  11/23/2023      Laptop  Électronique         2        352.16       Lyon\n",
      "198   4/23/2022  Chaussures          Mode         8       1349.86   Bordeaux\n",
      "199   5/12/2023      Laptop  Électronique         7        578.92  Marseille\n"
     ]
    }
   ],
   "source": [
    "import pandas as pd\n",
    "\n",
    "df = pd.read_csv('ventes.csv')\n",
    "\n",
    "print(df) \n",
    "print(df.to_string()) # => return all data"
   ]
  },
  {
   "cell_type": "code",
   "execution_count": 350,
   "id": "9918d13f",
   "metadata": {},
   "outputs": [
    {
     "name": "stdout",
     "output_type": "stream",
     "text": [
      "        Date     Produit     Catégorie  Quantité  PrixUnitaire    Magasin\n",
      "0  4/13/2022  Smartphone          Mode        10       1009.00       Lyon\n",
      "1  3/12/2023    Pantalon  Électronique         2        782.86      Paris\n",
      "2  9/28/2022    Pantalon          Mode        19       1159.62   Bordeaux\n",
      "3  4/17/2022     Fromage  Électronique         9        782.64   Bordeaux\n",
      "4  3/13/2022          TV          Mode         7       1279.01  Marseille\n"
     ]
    }
   ],
   "source": [
    "import pandas as pd\n",
    "\n",
    "data = pd.read_csv('ventes.csv')\n",
    "\n",
    "print(data.head(5))"
   ]
  },
  {
   "cell_type": "code",
   "execution_count": 351,
   "id": "969fd405",
   "metadata": {},
   "outputs": [
    {
     "name": "stdout",
     "output_type": "stream",
     "text": [
      "<class 'pandas.core.frame.DataFrame'>\n",
      "RangeIndex: 200 entries, 0 to 199\n",
      "Data columns (total 6 columns):\n",
      " #   Column        Non-Null Count  Dtype  \n",
      "---  ------        --------------  -----  \n",
      " 0   Date          200 non-null    object \n",
      " 1   Produit       200 non-null    object \n",
      " 2   Catégorie     200 non-null    object \n",
      " 3   Quantité      200 non-null    int64  \n",
      " 4   PrixUnitaire  200 non-null    float64\n",
      " 5   Magasin       200 non-null    object \n",
      "dtypes: float64(1), int64(1), object(4)\n",
      "memory usage: 9.5+ KB\n",
      "None\n"
     ]
    }
   ],
   "source": [
    "import pandas as pd\n",
    "\n",
    "data = pd.read_csv('ventes.csv')\n",
    "\n",
    "print(data.info())"
   ]
  },
  {
   "cell_type": "code",
   "execution_count": 352,
   "id": "7d6895d5",
   "metadata": {},
   "outputs": [
    {
     "name": "stdout",
     "output_type": "stream",
     "text": [
      "         Quantité  PrixUnitaire\n",
      "count  200.000000    200.000000\n",
      "mean    10.155000    691.105900\n",
      "std      5.506595    412.396293\n",
      "min      1.000000     26.740000\n",
      "25%      5.000000    316.852500\n",
      "50%     10.000000    660.270000\n",
      "75%     15.000000   1011.815000\n",
      "max     19.000000   1484.990000\n"
     ]
    }
   ],
   "source": [
    "import pandas as pd\n",
    "\n",
    "data = pd.read_csv('ventes.csv')\n",
    "\n",
    "\n",
    "print(data.describe())"
   ]
  },
  {
   "cell_type": "code",
   "execution_count": 353,
   "id": "f6ae9b41",
   "metadata": {},
   "outputs": [
    {
     "data": {
      "text/plain": [
       "Date            0\n",
       "Produit         0\n",
       "Catégorie       0\n",
       "Quantité        0\n",
       "PrixUnitaire    0\n",
       "Magasin         0\n",
       "dtype: int64"
      ]
     },
     "execution_count": 353,
     "metadata": {},
     "output_type": "execute_result"
    }
   ],
   "source": [
    "data.isnull().sum()"
   ]
  },
  {
   "cell_type": "code",
   "execution_count": 354,
   "id": "cb536ec5",
   "metadata": {},
   "outputs": [],
   "source": [
    "data[\"Date\"] = pd.to_datetime(data[\"Date\"])\n"
   ]
  },
  {
   "cell_type": "code",
   "execution_count": 355,
   "id": "a53be73c",
   "metadata": {},
   "outputs": [
    {
     "name": "stdout",
     "output_type": "stream",
     "text": [
      "<class 'pandas.core.frame.DataFrame'>\n",
      "RangeIndex: 200 entries, 0 to 199\n",
      "Data columns (total 6 columns):\n",
      " #   Column        Non-Null Count  Dtype         \n",
      "---  ------        --------------  -----         \n",
      " 0   Date          200 non-null    datetime64[ns]\n",
      " 1   Produit       200 non-null    object        \n",
      " 2   Catégorie     200 non-null    object        \n",
      " 3   Quantité      200 non-null    int64         \n",
      " 4   PrixUnitaire  200 non-null    float64       \n",
      " 5   Magasin       200 non-null    object        \n",
      "dtypes: datetime64[ns](1), float64(1), int64(1), object(3)\n",
      "memory usage: 9.5+ KB\n",
      "None\n"
     ]
    }
   ],
   "source": [
    "print(data.info())"
   ]
  },
  {
   "cell_type": "code",
   "execution_count": 356,
   "id": "04008697",
   "metadata": {},
   "outputs": [],
   "source": [
    "data[\"ChiffreAffaires\"] = data[\"Quantité\"] * data[\"PrixUnitaire\"]"
   ]
  },
  {
   "cell_type": "code",
   "execution_count": 357,
   "id": "e456b28a",
   "metadata": {},
   "outputs": [
    {
     "data": {
      "text/html": [
       "<div>\n",
       "<style scoped>\n",
       "    .dataframe tbody tr th:only-of-type {\n",
       "        vertical-align: middle;\n",
       "    }\n",
       "\n",
       "    .dataframe tbody tr th {\n",
       "        vertical-align: top;\n",
       "    }\n",
       "\n",
       "    .dataframe thead th {\n",
       "        text-align: right;\n",
       "    }\n",
       "</style>\n",
       "<table border=\"1\" class=\"dataframe\">\n",
       "  <thead>\n",
       "    <tr style=\"text-align: right;\">\n",
       "      <th></th>\n",
       "      <th>Date</th>\n",
       "      <th>Produit</th>\n",
       "      <th>Catégorie</th>\n",
       "      <th>Quantité</th>\n",
       "      <th>PrixUnitaire</th>\n",
       "      <th>Magasin</th>\n",
       "      <th>ChiffreAffaires</th>\n",
       "    </tr>\n",
       "  </thead>\n",
       "  <tbody>\n",
       "    <tr>\n",
       "      <th>0</th>\n",
       "      <td>2022-04-13</td>\n",
       "      <td>Smartphone</td>\n",
       "      <td>Mode</td>\n",
       "      <td>10</td>\n",
       "      <td>1009.00</td>\n",
       "      <td>Lyon</td>\n",
       "      <td>10090.00</td>\n",
       "    </tr>\n",
       "    <tr>\n",
       "      <th>1</th>\n",
       "      <td>2023-03-12</td>\n",
       "      <td>Pantalon</td>\n",
       "      <td>Électronique</td>\n",
       "      <td>2</td>\n",
       "      <td>782.86</td>\n",
       "      <td>Paris</td>\n",
       "      <td>1565.72</td>\n",
       "    </tr>\n",
       "    <tr>\n",
       "      <th>2</th>\n",
       "      <td>2022-09-28</td>\n",
       "      <td>Pantalon</td>\n",
       "      <td>Mode</td>\n",
       "      <td>19</td>\n",
       "      <td>1159.62</td>\n",
       "      <td>Bordeaux</td>\n",
       "      <td>22032.78</td>\n",
       "    </tr>\n",
       "    <tr>\n",
       "      <th>3</th>\n",
       "      <td>2022-04-17</td>\n",
       "      <td>Fromage</td>\n",
       "      <td>Électronique</td>\n",
       "      <td>9</td>\n",
       "      <td>782.64</td>\n",
       "      <td>Bordeaux</td>\n",
       "      <td>7043.76</td>\n",
       "    </tr>\n",
       "    <tr>\n",
       "      <th>4</th>\n",
       "      <td>2022-03-13</td>\n",
       "      <td>TV</td>\n",
       "      <td>Mode</td>\n",
       "      <td>7</td>\n",
       "      <td>1279.01</td>\n",
       "      <td>Marseille</td>\n",
       "      <td>8953.07</td>\n",
       "    </tr>\n",
       "  </tbody>\n",
       "</table>\n",
       "</div>"
      ],
      "text/plain": [
       "        Date     Produit     Catégorie  Quantité  PrixUnitaire    Magasin  \\\n",
       "0 2022-04-13  Smartphone          Mode        10       1009.00       Lyon   \n",
       "1 2023-03-12    Pantalon  Électronique         2        782.86      Paris   \n",
       "2 2022-09-28    Pantalon          Mode        19       1159.62   Bordeaux   \n",
       "3 2022-04-17     Fromage  Électronique         9        782.64   Bordeaux   \n",
       "4 2022-03-13          TV          Mode         7       1279.01  Marseille   \n",
       "\n",
       "   ChiffreAffaires  \n",
       "0         10090.00  \n",
       "1          1565.72  \n",
       "2         22032.78  \n",
       "3          7043.76  \n",
       "4          8953.07  "
      ]
     },
     "execution_count": 357,
     "metadata": {},
     "output_type": "execute_result"
    }
   ],
   "source": [
    "data.head(5)\n"
   ]
  },
  {
   "cell_type": "code",
   "execution_count": 358,
   "id": "4cfc15b7",
   "metadata": {},
   "outputs": [
    {
     "name": "stdout",
     "output_type": "stream",
     "text": [
      "<class 'pandas.core.frame.DataFrame'>\n",
      "RangeIndex: 200 entries, 0 to 199\n",
      "Data columns (total 6 columns):\n",
      " #   Column        Non-Null Count  Dtype  \n",
      "---  ------        --------------  -----  \n",
      " 0   Date          200 non-null    object \n",
      " 1   Produit       200 non-null    object \n",
      " 2   Catégorie     200 non-null    object \n",
      " 3   Quantité      200 non-null    int64  \n",
      " 4   PrixUnitaire  200 non-null    float64\n",
      " 5   Magasin       200 non-null    object \n",
      "dtypes: float64(1), int64(1), object(4)\n",
      "memory usage: 9.5+ KB\n",
      "None\n"
     ]
    }
   ],
   "source": [
    "import pandas as pd\n",
    "\n",
    "data = pd.read_csv('ventes.csv')\n",
    "\n",
    "print(data.info())"
   ]
  },
  {
   "cell_type": "code",
   "execution_count": 359,
   "id": "a34eba07",
   "metadata": {},
   "outputs": [],
   "source": [
    "data[\"Date\"] = pd.to_datetime(data[\"Date\"])"
   ]
  },
  {
   "cell_type": "code",
   "execution_count": 360,
   "id": "3a5df540",
   "metadata": {},
   "outputs": [
    {
     "name": "stdout",
     "output_type": "stream",
     "text": [
      "<class 'pandas.core.frame.DataFrame'>\n",
      "RangeIndex: 200 entries, 0 to 199\n",
      "Data columns (total 6 columns):\n",
      " #   Column        Non-Null Count  Dtype         \n",
      "---  ------        --------------  -----         \n",
      " 0   Date          200 non-null    datetime64[ns]\n",
      " 1   Produit       200 non-null    object        \n",
      " 2   Catégorie     200 non-null    object        \n",
      " 3   Quantité      200 non-null    int64         \n",
      " 4   PrixUnitaire  200 non-null    float64       \n",
      " 5   Magasin       200 non-null    object        \n",
      "dtypes: datetime64[ns](1), float64(1), int64(1), object(3)\n",
      "memory usage: 9.5+ KB\n"
     ]
    }
   ],
   "source": [
    "data.info()"
   ]
  },
  {
   "cell_type": "markdown",
   "id": "b7e63db2",
   "metadata": {},
   "source": [
    "# partie b - 6\n"
   ]
  },
  {
   "cell_type": "code",
   "execution_count": 361,
   "id": "21034f2f",
   "metadata": {},
   "outputs": [],
   "source": [
    "data[\"ChiffreAffaires\"] = data[\"Quantité\"] * data[\"PrixUnitaire\"]"
   ]
  },
  {
   "cell_type": "code",
   "execution_count": 362,
   "id": "a67bedec",
   "metadata": {},
   "outputs": [
    {
     "data": {
      "text/html": [
       "<div>\n",
       "<style scoped>\n",
       "    .dataframe tbody tr th:only-of-type {\n",
       "        vertical-align: middle;\n",
       "    }\n",
       "\n",
       "    .dataframe tbody tr th {\n",
       "        vertical-align: top;\n",
       "    }\n",
       "\n",
       "    .dataframe thead th {\n",
       "        text-align: right;\n",
       "    }\n",
       "</style>\n",
       "<table border=\"1\" class=\"dataframe\">\n",
       "  <thead>\n",
       "    <tr style=\"text-align: right;\">\n",
       "      <th></th>\n",
       "      <th>Date</th>\n",
       "      <th>Produit</th>\n",
       "      <th>Catégorie</th>\n",
       "      <th>Quantité</th>\n",
       "      <th>PrixUnitaire</th>\n",
       "      <th>Magasin</th>\n",
       "      <th>ChiffreAffaires</th>\n",
       "    </tr>\n",
       "  </thead>\n",
       "  <tbody>\n",
       "    <tr>\n",
       "      <th>0</th>\n",
       "      <td>2022-04-13</td>\n",
       "      <td>Smartphone</td>\n",
       "      <td>Mode</td>\n",
       "      <td>10</td>\n",
       "      <td>1009.00</td>\n",
       "      <td>Lyon</td>\n",
       "      <td>10090.00</td>\n",
       "    </tr>\n",
       "    <tr>\n",
       "      <th>1</th>\n",
       "      <td>2023-03-12</td>\n",
       "      <td>Pantalon</td>\n",
       "      <td>Électronique</td>\n",
       "      <td>2</td>\n",
       "      <td>782.86</td>\n",
       "      <td>Paris</td>\n",
       "      <td>1565.72</td>\n",
       "    </tr>\n",
       "    <tr>\n",
       "      <th>2</th>\n",
       "      <td>2022-09-28</td>\n",
       "      <td>Pantalon</td>\n",
       "      <td>Mode</td>\n",
       "      <td>19</td>\n",
       "      <td>1159.62</td>\n",
       "      <td>Bordeaux</td>\n",
       "      <td>22032.78</td>\n",
       "    </tr>\n",
       "    <tr>\n",
       "      <th>3</th>\n",
       "      <td>2022-04-17</td>\n",
       "      <td>Fromage</td>\n",
       "      <td>Électronique</td>\n",
       "      <td>9</td>\n",
       "      <td>782.64</td>\n",
       "      <td>Bordeaux</td>\n",
       "      <td>7043.76</td>\n",
       "    </tr>\n",
       "    <tr>\n",
       "      <th>4</th>\n",
       "      <td>2022-03-13</td>\n",
       "      <td>TV</td>\n",
       "      <td>Mode</td>\n",
       "      <td>7</td>\n",
       "      <td>1279.01</td>\n",
       "      <td>Marseille</td>\n",
       "      <td>8953.07</td>\n",
       "    </tr>\n",
       "  </tbody>\n",
       "</table>\n",
       "</div>"
      ],
      "text/plain": [
       "        Date     Produit     Catégorie  Quantité  PrixUnitaire    Magasin  \\\n",
       "0 2022-04-13  Smartphone          Mode        10       1009.00       Lyon   \n",
       "1 2023-03-12    Pantalon  Électronique         2        782.86      Paris   \n",
       "2 2022-09-28    Pantalon          Mode        19       1159.62   Bordeaux   \n",
       "3 2022-04-17     Fromage  Électronique         9        782.64   Bordeaux   \n",
       "4 2022-03-13          TV          Mode         7       1279.01  Marseille   \n",
       "\n",
       "   ChiffreAffaires  \n",
       "0         10090.00  \n",
       "1          1565.72  \n",
       "2         22032.78  \n",
       "3          7043.76  \n",
       "4          8953.07  "
      ]
     },
     "execution_count": 362,
     "metadata": {},
     "output_type": "execute_result"
    }
   ],
   "source": [
    "data.head(5)"
   ]
  },
  {
   "cell_type": "markdown",
   "id": "dd8510f8",
   "metadata": {},
   "source": [
    "# Partie b - 7"
   ]
  },
  {
   "cell_type": "code",
   "execution_count": 363,
   "id": "67cfddfb",
   "metadata": {},
   "outputs": [
    {
     "name": "stdout",
     "output_type": "stream",
     "text": [
      "<class 'pandas.core.frame.DataFrame'>\n",
      "RangeIndex: 200 entries, 0 to 199\n",
      "Data columns (total 7 columns):\n",
      " #   Column           Non-Null Count  Dtype         \n",
      "---  ------           --------------  -----         \n",
      " 0   Date             200 non-null    datetime64[ns]\n",
      " 1   Produit          200 non-null    object        \n",
      " 2   Catégorie        200 non-null    object        \n",
      " 3   Quantité         200 non-null    int64         \n",
      " 4   PrixUnitaire     200 non-null    float64       \n",
      " 5   Magasin          200 non-null    object        \n",
      " 6   ChiffreAffaires  200 non-null    float64       \n",
      "dtypes: datetime64[ns](1), float64(2), int64(1), object(3)\n",
      "memory usage: 11.1+ KB\n"
     ]
    }
   ],
   "source": [
    "data.info()"
   ]
  },
  {
   "cell_type": "markdown",
   "id": "8696d43a",
   "metadata": {},
   "source": [
    "# new Data Frame with no empty cells"
   ]
  },
  {
   "cell_type": "markdown",
   "id": "6b36f9db",
   "metadata": {},
   "source": [
    "# Partie b - 7"
   ]
  },
  {
   "cell_type": "code",
   "execution_count": 364,
   "id": "ad24bb5d",
   "metadata": {},
   "outputs": [
    {
     "name": "stdout",
     "output_type": "stream",
     "text": [
      "0      False\n",
      "1      False\n",
      "2      False\n",
      "3      False\n",
      "4      False\n",
      "       ...  \n",
      "195    False\n",
      "196    False\n",
      "197    False\n",
      "198    False\n",
      "199    False\n",
      "Length: 200, dtype: bool\n"
     ]
    }
   ],
   "source": [
    "print(data.duplicated())"
   ]
  },
  {
   "cell_type": "code",
   "execution_count": 365,
   "id": "94e3506c",
   "metadata": {},
   "outputs": [
    {
     "name": "stdout",
     "output_type": "stream",
     "text": [
      "<class 'pandas.core.frame.DataFrame'>\n",
      "RangeIndex: 200 entries, 0 to 199\n",
      "Data columns (total 7 columns):\n",
      " #   Column           Non-Null Count  Dtype         \n",
      "---  ------           --------------  -----         \n",
      " 0   Date             200 non-null    datetime64[ns]\n",
      " 1   Produit          200 non-null    object        \n",
      " 2   Catégorie        200 non-null    object        \n",
      " 3   Quantité         200 non-null    int64         \n",
      " 4   PrixUnitaire     200 non-null    float64       \n",
      " 5   Magasin          200 non-null    object        \n",
      " 6   ChiffreAffaires  200 non-null    float64       \n",
      "dtypes: datetime64[ns](1), float64(2), int64(1), object(3)\n",
      "memory usage: 11.1+ KB\n"
     ]
    }
   ],
   "source": [
    "data.info()"
   ]
  },
  {
   "cell_type": "code",
   "execution_count": 366,
   "id": "8c44d6ad",
   "metadata": {},
   "outputs": [],
   "source": [
    "data.drop_duplicates(inplace=True)"
   ]
  },
  {
   "cell_type": "code",
   "execution_count": 367,
   "id": "406700dd",
   "metadata": {},
   "outputs": [
    {
     "name": "stdout",
     "output_type": "stream",
     "text": [
      "<class 'pandas.core.frame.DataFrame'>\n",
      "RangeIndex: 200 entries, 0 to 199\n",
      "Data columns (total 7 columns):\n",
      " #   Column           Non-Null Count  Dtype         \n",
      "---  ------           --------------  -----         \n",
      " 0   Date             200 non-null    datetime64[ns]\n",
      " 1   Produit          200 non-null    object        \n",
      " 2   Catégorie        200 non-null    object        \n",
      " 3   Quantité         200 non-null    int64         \n",
      " 4   PrixUnitaire     200 non-null    float64       \n",
      " 5   Magasin          200 non-null    object        \n",
      " 6   ChiffreAffaires  200 non-null    float64       \n",
      "dtypes: datetime64[ns](1), float64(2), int64(1), object(3)\n",
      "memory usage: 11.1+ KB\n"
     ]
    }
   ],
   "source": [
    "data.info()"
   ]
  },
  {
   "cell_type": "code",
   "execution_count": 368,
   "id": "8a14112c",
   "metadata": {},
   "outputs": [],
   "source": [
    "data[\"Date\"] = pd.to_datetime(data[\"Date\"])"
   ]
  },
  {
   "cell_type": "code",
   "execution_count": 369,
   "id": "4e161401",
   "metadata": {},
   "outputs": [
    {
     "name": "stdout",
     "output_type": "stream",
     "text": [
      "<class 'pandas.core.frame.DataFrame'>\n",
      "RangeIndex: 200 entries, 0 to 199\n",
      "Data columns (total 7 columns):\n",
      " #   Column           Non-Null Count  Dtype         \n",
      "---  ------           --------------  -----         \n",
      " 0   Date             200 non-null    datetime64[ns]\n",
      " 1   Produit          200 non-null    object        \n",
      " 2   Catégorie        200 non-null    object        \n",
      " 3   Quantité         200 non-null    int64         \n",
      " 4   PrixUnitaire     200 non-null    float64       \n",
      " 5   Magasin          200 non-null    object        \n",
      " 6   ChiffreAffaires  200 non-null    float64       \n",
      "dtypes: datetime64[ns](1), float64(2), int64(1), object(3)\n",
      "memory usage: 11.1+ KB\n"
     ]
    }
   ],
   "source": [
    "data.info()"
   ]
  },
  {
   "cell_type": "code",
   "execution_count": 370,
   "id": "b46119b6",
   "metadata": {},
   "outputs": [
    {
     "data": {
      "image/png": "[encoded data removed]",
      "text/plain": [
       "<Figure size 640x480 with 1 Axes>"
      ]
     },
     "metadata": {},
     "output_type": "display_data"
    }
   ],
   "source": [
    "# data.corr()\n",
    "import matplotlib.pyplot as plt\n",
    "\n",
    "data.plot()\n",
    "\n",
    "plt.show()\n"
   ]
  },
  {
   "cell_type": "code",
   "execution_count": 371,
   "id": "3c6cf73b",
   "metadata": {},
   "outputs": [
    {
     "data": {
      "text/html": [
       "<div>\n",
       "<style scoped>\n",
       "    .dataframe tbody tr th:only-of-type {\n",
       "        vertical-align: middle;\n",
       "    }\n",
       "\n",
       "    .dataframe tbody tr th {\n",
       "        vertical-align: top;\n",
       "    }\n",
       "\n",
       "    .dataframe thead th {\n",
       "        text-align: right;\n",
       "    }\n",
       "</style>\n",
       "<table border=\"1\" class=\"dataframe\">\n",
       "  <thead>\n",
       "    <tr style=\"text-align: right;\">\n",
       "      <th></th>\n",
       "      <th>Date</th>\n",
       "      <th>Produit</th>\n",
       "      <th>Catégorie</th>\n",
       "      <th>Quantité</th>\n",
       "      <th>PrixUnitaire</th>\n",
       "      <th>Magasin</th>\n",
       "      <th>ChiffreAffaires</th>\n",
       "    </tr>\n",
       "  </thead>\n",
       "  <tbody>\n",
       "    <tr>\n",
       "      <th>0</th>\n",
       "      <td>2022-04-13</td>\n",
       "      <td>Smartphone</td>\n",
       "      <td>Mode</td>\n",
       "      <td>10</td>\n",
       "      <td>1009.00</td>\n",
       "      <td>Lyon</td>\n",
       "      <td>10090.00</td>\n",
       "    </tr>\n",
       "    <tr>\n",
       "      <th>1</th>\n",
       "      <td>2023-03-12</td>\n",
       "      <td>Pantalon</td>\n",
       "      <td>Électronique</td>\n",
       "      <td>2</td>\n",
       "      <td>782.86</td>\n",
       "      <td>Paris</td>\n",
       "      <td>1565.72</td>\n",
       "    </tr>\n",
       "    <tr>\n",
       "      <th>2</th>\n",
       "      <td>2022-09-28</td>\n",
       "      <td>Pantalon</td>\n",
       "      <td>Mode</td>\n",
       "      <td>19</td>\n",
       "      <td>1159.62</td>\n",
       "      <td>Bordeaux</td>\n",
       "      <td>22032.78</td>\n",
       "    </tr>\n",
       "    <tr>\n",
       "      <th>3</th>\n",
       "      <td>2022-04-17</td>\n",
       "      <td>Fromage</td>\n",
       "      <td>Électronique</td>\n",
       "      <td>9</td>\n",
       "      <td>782.64</td>\n",
       "      <td>Bordeaux</td>\n",
       "      <td>7043.76</td>\n",
       "    </tr>\n",
       "    <tr>\n",
       "      <th>4</th>\n",
       "      <td>2022-03-13</td>\n",
       "      <td>TV</td>\n",
       "      <td>Mode</td>\n",
       "      <td>7</td>\n",
       "      <td>1279.01</td>\n",
       "      <td>Marseille</td>\n",
       "      <td>8953.07</td>\n",
       "    </tr>\n",
       "  </tbody>\n",
       "</table>\n",
       "</div>"
      ],
      "text/plain": [
       "        Date     Produit     Catégorie  Quantité  PrixUnitaire    Magasin  \\\n",
       "0 2022-04-13  Smartphone          Mode        10       1009.00       Lyon   \n",
       "1 2023-03-12    Pantalon  Électronique         2        782.86      Paris   \n",
       "2 2022-09-28    Pantalon          Mode        19       1159.62   Bordeaux   \n",
       "3 2022-04-17     Fromage  Électronique         9        782.64   Bordeaux   \n",
       "4 2022-03-13          TV          Mode         7       1279.01  Marseille   \n",
       "\n",
       "   ChiffreAffaires  \n",
       "0         10090.00  \n",
       "1          1565.72  \n",
       "2         22032.78  \n",
       "3          7043.76  \n",
       "4          8953.07  "
      ]
     },
     "execution_count": 371,
     "metadata": {},
     "output_type": "execute_result"
    }
   ],
   "source": [
    "data.head(5)"
   ]
  },
  {
   "cell_type": "code",
   "execution_count": 372,
   "id": "8fb35e6d",
   "metadata": {},
   "outputs": [
    {
     "name": "stdout",
     "output_type": "stream",
     "text": [
      "          Date     Produit     Catégorie  Quantité  PrixUnitaire    Magasin  \\\n",
      "2   2022-09-28    Pantalon          Mode        19       1159.62   Bordeaux   \n",
      "32  2023-04-20          TV   Alimentaire        19        391.08  Marseille   \n",
      "37  2023-12-01     T-shirt          Mode        19        951.93       Lyon   \n",
      "42  2022-09-01        Pain   Alimentaire        19        232.09      Paris   \n",
      "78  2022-07-21  Chaussures  Électronique        19        556.53       Lyon   \n",
      "89  2022-12-04     T-shirt          Mode        19        801.26   Bordeaux   \n",
      "93  2023-01-15  Smartphone   Alimentaire        19         35.01      Paris   \n",
      "118 2022-07-20     Fromage   Alimentaire        19        233.52   Bordeaux   \n",
      "152 2022-02-05     Fromage  Électronique        19        724.30  Marseille   \n",
      "184 2023-02-15      Laptop  Électronique        19       1222.79       Lyon   \n",
      "190 2023-11-15    Pantalon          Mode        19       1225.82  Marseille   \n",
      "\n",
      "     ChiffreAffaires  \n",
      "2           22032.78  \n",
      "32           7430.52  \n",
      "37          18086.67  \n",
      "42           4409.71  \n",
      "78          10574.07  \n",
      "89          15223.94  \n",
      "93            665.19  \n",
      "118          4436.88  \n",
      "152         13761.70  \n",
      "184         23233.01  \n",
      "190         23290.58  \n"
     ]
    }
   ],
   "source": [
    "qte_s = data[\"Quantité\"]\n",
    "\n",
    "print(data[ data[\"Quantité\"] == qte_s.max() ])\n",
    "\n",
    "# data.loc[ data['Quantité'].idxmax() , 'Produit' ]\n"
   ]
  },
  {
   "cell_type": "code",
   "execution_count": 373,
   "id": "fe717e7f",
   "metadata": {},
   "outputs": [
    {
     "name": "stdout",
     "output_type": "stream",
     "text": [
      "<class 'pandas.core.frame.DataFrame'>\n",
      "RangeIndex: 200 entries, 0 to 199\n",
      "Data columns (total 7 columns):\n",
      " #   Column           Non-Null Count  Dtype         \n",
      "---  ------           --------------  -----         \n",
      " 0   Date             200 non-null    datetime64[ns]\n",
      " 1   Produit          200 non-null    object        \n",
      " 2   Catégorie        200 non-null    object        \n",
      " 3   Quantité         200 non-null    int64         \n",
      " 4   PrixUnitaire     200 non-null    float64       \n",
      " 5   Magasin          200 non-null    object        \n",
      " 6   ChiffreAffaires  200 non-null    float64       \n",
      "dtypes: datetime64[ns](1), float64(2), int64(1), object(3)\n",
      "memory usage: 11.1+ KB\n"
     ]
    }
   ],
   "source": [
    "data.info()"
   ]
  },
  {
   "cell_type": "code",
   "execution_count": 374,
   "id": "7a455522",
   "metadata": {},
   "outputs": [
    {
     "data": {
      "text/plain": [
       "Catégorie\n",
       "Alimentaire     497699.75\n",
       "Mode            530772.33\n",
       "Électronique    399622.87\n",
       "Name: ChiffreAffaires, dtype: float64"
      ]
     },
     "execution_count": 374,
     "metadata": {},
     "output_type": "execute_result"
    }
   ],
   "source": [
    "data.groupby(\"Catégorie\")[\"ChiffreAffaires\"].sum()\n"
   ]
  },
  {
   "cell_type": "code",
   "execution_count": 375,
   "id": "c088cb94",
   "metadata": {},
   "outputs": [
    {
     "data": {
      "text/plain": [
       "Magasin\n",
       "Bordeaux     7679.619783\n",
       "Lyon         7883.626458\n",
       "Marseille    6558.214364\n",
       "Paris        6582.678039\n",
       "Name: ChiffreAffaires, dtype: float64"
      ]
     },
     "execution_count": 375,
     "metadata": {},
     "output_type": "execute_result"
    }
   ],
   "source": [
    "data.groupby(\"Magasin\")[\"ChiffreAffaires\"].mean()"
   ]
  },
  {
   "cell_type": "code",
   "execution_count": 376,
   "id": "3c6b43a0",
   "metadata": {},
   "outputs": [
    {
     "data": {
      "text/plain": [
       "Date\n",
       "1     265\n",
       "2     176\n",
       "3     111\n",
       "4     221\n",
       "5     159\n",
       "6      78\n",
       "7     230\n",
       "8     138\n",
       "9     141\n",
       "10    130\n",
       "11    163\n",
       "12    219\n",
       "Name: Quantité, dtype: int64"
      ]
     },
     "execution_count": 376,
     "metadata": {},
     "output_type": "execute_result"
    }
   ],
   "source": [
    "data.groupby(data[\"Date\"].dt.month)[\"Quantité\"].sum()"
   ]
  },
  {
   "cell_type": "markdown",
   "id": "9e1e1c0a",
   "metadata": {},
   "source": [
    "# Parie D"
   ]
  },
  {
   "cell_type": "code",
   "execution_count": 377,
   "id": "0cb23862",
   "metadata": {},
   "outputs": [
    {
     "name": "stdout",
     "output_type": "stream",
     "text": [
      "<class 'pandas.core.frame.DataFrame'>\n",
      "RangeIndex: 200 entries, 0 to 199\n",
      "Data columns (total 7 columns):\n",
      " #   Column           Non-Null Count  Dtype         \n",
      "---  ------           --------------  -----         \n",
      " 0   Date             200 non-null    datetime64[ns]\n",
      " 1   Produit          200 non-null    object        \n",
      " 2   Catégorie        200 non-null    object        \n",
      " 3   Quantité         200 non-null    int64         \n",
      " 4   PrixUnitaire     200 non-null    float64       \n",
      " 5   Magasin          200 non-null    object        \n",
      " 6   ChiffreAffaires  200 non-null    float64       \n",
      "dtypes: datetime64[ns](1), float64(2), int64(1), object(3)\n",
      "memory usage: 11.1+ KB\n"
     ]
    }
   ],
   "source": [
    "data.info()"
   ]
  },
  {
   "cell_type": "code",
   "execution_count": 378,
   "id": "34144505",
   "metadata": {},
   "outputs": [
    {
     "data": {
      "text/html": [
       "<div>\n",
       "<style scoped>\n",
       "    .dataframe tbody tr th:only-of-type {\n",
       "        vertical-align: middle;\n",
       "    }\n",
       "\n",
       "    .dataframe tbody tr th {\n",
       "        vertical-align: top;\n",
       "    }\n",
       "\n",
       "    .dataframe thead th {\n",
       "        text-align: right;\n",
       "    }\n",
       "</style>\n",
       "<table border=\"1\" class=\"dataframe\">\n",
       "  <thead>\n",
       "    <tr style=\"text-align: right;\">\n",
       "      <th></th>\n",
       "      <th>Date</th>\n",
       "      <th>Produit</th>\n",
       "      <th>Catégorie</th>\n",
       "      <th>Quantité</th>\n",
       "      <th>PrixUnitaire</th>\n",
       "      <th>Magasin</th>\n",
       "      <th>ChiffreAffaires</th>\n",
       "    </tr>\n",
       "  </thead>\n",
       "  <tbody>\n",
       "    <tr>\n",
       "      <th>28</th>\n",
       "      <td>2022-11-10</td>\n",
       "      <td>Smartphone</td>\n",
       "      <td>Mode</td>\n",
       "      <td>17</td>\n",
       "      <td>1424.53</td>\n",
       "      <td>Paris</td>\n",
       "      <td>24217.01</td>\n",
       "    </tr>\n",
       "    <tr>\n",
       "      <th>98</th>\n",
       "      <td>2022-03-06</td>\n",
       "      <td>Laptop</td>\n",
       "      <td>Mode</td>\n",
       "      <td>18</td>\n",
       "      <td>1336.34</td>\n",
       "      <td>Bordeaux</td>\n",
       "      <td>24054.12</td>\n",
       "    </tr>\n",
       "    <tr>\n",
       "      <th>190</th>\n",
       "      <td>2023-11-15</td>\n",
       "      <td>Pantalon</td>\n",
       "      <td>Mode</td>\n",
       "      <td>19</td>\n",
       "      <td>1225.82</td>\n",
       "      <td>Marseille</td>\n",
       "      <td>23290.58</td>\n",
       "    </tr>\n",
       "    <tr>\n",
       "      <th>131</th>\n",
       "      <td>2023-10-05</td>\n",
       "      <td>T-shirt</td>\n",
       "      <td>Électronique</td>\n",
       "      <td>16</td>\n",
       "      <td>1454.36</td>\n",
       "      <td>Marseille</td>\n",
       "      <td>23269.76</td>\n",
       "    </tr>\n",
       "    <tr>\n",
       "      <th>184</th>\n",
       "      <td>2023-02-15</td>\n",
       "      <td>Laptop</td>\n",
       "      <td>Électronique</td>\n",
       "      <td>19</td>\n",
       "      <td>1222.79</td>\n",
       "      <td>Lyon</td>\n",
       "      <td>23233.01</td>\n",
       "    </tr>\n",
       "  </tbody>\n",
       "</table>\n",
       "</div>"
      ],
      "text/plain": [
       "          Date     Produit     Catégorie  Quantité  PrixUnitaire    Magasin  \\\n",
       "28  2022-11-10  Smartphone          Mode        17       1424.53      Paris   \n",
       "98  2022-03-06      Laptop          Mode        18       1336.34   Bordeaux   \n",
       "190 2023-11-15    Pantalon          Mode        19       1225.82  Marseille   \n",
       "131 2023-10-05     T-shirt  Électronique        16       1454.36  Marseille   \n",
       "184 2023-02-15      Laptop  Électronique        19       1222.79       Lyon   \n",
       "\n",
       "     ChiffreAffaires  \n",
       "28          24217.01  \n",
       "98          24054.12  \n",
       "190         23290.58  \n",
       "131         23269.76  \n",
       "184         23233.01  "
      ]
     },
     "execution_count": 378,
     "metadata": {},
     "output_type": "execute_result"
    }
   ],
   "source": [
    "indx = data[\"ChiffreAffaires\"].sort_values(ascending=False).head(5).index\n",
    "\n",
    "data.loc[indx]"
   ]
  },
  {
   "cell_type": "code",
   "execution_count": 379,
   "id": "8d5c0725",
   "metadata": {},
   "outputs": [
    {
     "data": {
      "text/html": [
       "<div>\n",
       "<style scoped>\n",
       "    .dataframe tbody tr th:only-of-type {\n",
       "        vertical-align: middle;\n",
       "    }\n",
       "\n",
       "    .dataframe tbody tr th {\n",
       "        vertical-align: top;\n",
       "    }\n",
       "\n",
       "    .dataframe thead th {\n",
       "        text-align: right;\n",
       "    }\n",
       "</style>\n",
       "<table border=\"1\" class=\"dataframe\">\n",
       "  <thead>\n",
       "    <tr style=\"text-align: right;\">\n",
       "      <th>Magasin</th>\n",
       "      <th>Bordeaux</th>\n",
       "      <th>Lyon</th>\n",
       "      <th>Marseille</th>\n",
       "      <th>Paris</th>\n",
       "    </tr>\n",
       "    <tr>\n",
       "      <th>Catégorie</th>\n",
       "      <th></th>\n",
       "      <th></th>\n",
       "      <th></th>\n",
       "      <th></th>\n",
       "    </tr>\n",
       "  </thead>\n",
       "  <tbody>\n",
       "    <tr>\n",
       "      <th>Alimentaire</th>\n",
       "      <td>9049.199412</td>\n",
       "      <td>11103.044000</td>\n",
       "      <td>7264.611538</td>\n",
       "      <td>7688.498333</td>\n",
       "    </tr>\n",
       "    <tr>\n",
       "      <th>Mode</th>\n",
       "      <td>10113.191538</td>\n",
       "      <td>6681.536842</td>\n",
       "      <td>5964.645000</td>\n",
       "      <td>7600.009412</td>\n",
       "    </tr>\n",
       "    <tr>\n",
       "      <th>Électronique</th>\n",
       "      <td>4247.164375</td>\n",
       "      <td>7391.285789</td>\n",
       "      <td>6839.464444</td>\n",
       "      <td>4257.715625</td>\n",
       "    </tr>\n",
       "  </tbody>\n",
       "</table>\n",
       "</div>"
      ],
      "text/plain": [
       "Magasin           Bordeaux          Lyon    Marseille        Paris\n",
       "Catégorie                                                         \n",
       "Alimentaire    9049.199412  11103.044000  7264.611538  7688.498333\n",
       "Mode          10113.191538   6681.536842  5964.645000  7600.009412\n",
       "Électronique   4247.164375   7391.285789  6839.464444  4257.715625"
      ]
     },
     "execution_count": 379,
     "metadata": {},
     "output_type": "execute_result"
    }
   ],
   "source": [
    "pd.pivot_table(\n",
    "    data,\n",
    "    values=\"ChiffreAffaires\",\n",
    "    index=\"Catégorie\",\n",
    "    columns=\"Magasin\"\n",
    ")"
   ]
  },
  {
   "cell_type": "code",
   "execution_count": 380,
   "id": "917805de",
   "metadata": {},
   "outputs": [
    {
     "data": {
      "image/png": "[encoded data removed]",
      "text/plain": [
       "<Figure size 640x480 with 1 Axes>"
      ]
     },
     "metadata": {},
     "output_type": "display_data"
    }
   ],
   "source": [
    "\n",
    "\n",
    "chiffreaffaires_par_mois = data.groupby(data[\"Date\"].dt.month)[\"ChiffreAffaires\"].sum()\n",
    "\n",
    "\n",
    "# mois = chiffreaffaires_par_mois.index.to_list()\n",
    "# chiffre = chiffreaffaires_par_mois.values.tolist()\n",
    "\n",
    "# chiffreaffaires_par_mois.plot(kind= \"bar\" , x=\"Date\" , y=\"ChiffreAffaires\")\n",
    "chiffreaffaires_par_mois.plot(x=\"Date\" , y=\"ChiffreAffaires\")\n",
    "\n",
    "\n",
    "\n",
    "# plt.plot(mois,chiffre)\n",
    "plt.show()\n"
   ]
  },
  {
   "cell_type": "code",
   "execution_count": 381,
   "id": "a0475e05",
   "metadata": {},
   "outputs": [
    {
     "data": {
      "text/plain": [
       "Magasin\n",
       "Lyon    378414.07\n",
       "Name: ChiffreAffaires, dtype: float64"
      ]
     },
     "execution_count": 381,
     "metadata": {},
     "output_type": "execute_result"
    }
   ],
   "source": [
    "data.groupby(\"Magasin\")[\"ChiffreAffaires\"].sum().sort_values(ascending=False).head(1)\n"
   ]
  },
  {
   "cell_type": "code",
   "execution_count": 382,
   "id": "e9e4e5e1",
   "metadata": {},
   "outputs": [
    {
     "data": {
      "text/plain": [
       "Date\n",
       "1    265\n",
       "Name: Quantité, dtype: int64"
      ]
     },
     "execution_count": 382,
     "metadata": {},
     "output_type": "execute_result"
    }
   ],
   "source": [
    "data.groupby(data[\"Date\"].dt.month)[\"Quantité\"].sum().sort_values(ascending=False).head(1)"
   ]
  },
  {
   "cell_type": "code",
   "execution_count": 383,
   "id": "ba8117a7",
   "metadata": {},
   "outputs": [
    {
     "data": {
      "text/plain": [
       "Produit\n",
       "Chaussures    639.017368\n",
       "Fromage       692.164800\n",
       "Laptop        698.736250\n",
       "Pain          600.907857\n",
       "Pantalon      630.053929\n",
       "Smartphone    765.570000\n",
       "T-shirt       813.896000\n",
       "TV            674.315625\n",
       "Name: PrixUnitaire, dtype: float64"
      ]
     },
     "execution_count": 383,
     "metadata": {},
     "output_type": "execute_result"
    }
   ],
   "source": [
    "data.groupby(\"Produit\")[\"PrixUnitaire\"].mean()"
   ]
  },
  {
   "cell_type": "code",
   "execution_count": 384,
   "id": "5a8c808a",
   "metadata": {},
   "outputs": [
    {
     "data": {
      "text/plain": [
       "Catégorie\n",
       "Mode            751\n",
       "Alimentaire     666\n",
       "Électronique    614\n",
       "Name: Quantité, dtype: int64"
      ]
     },
     "execution_count": 384,
     "metadata": {},
     "output_type": "execute_result"
    }
   ],
   "source": [
    "data.groupby(\"Catégorie\")[\"Quantité\"].sum().sort_values(ascending=False)"
   ]
  },
  {
   "cell_type": "code",
   "execution_count": 385,
   "id": "b0c59a1f",
   "metadata": {},
   "outputs": [
    {
     "data": {
      "text/plain": [
       "Date\n",
       "1     77343.23\n",
       "2     52816.70\n",
       "3     12988.44\n",
       "4     52945.64\n",
       "5     90375.93\n",
       "6     69963.33\n",
       "7     38670.53\n",
       "8     31975.86\n",
       "9     58914.79\n",
       "10    95245.64\n",
       "11    79784.13\n",
       "12    29236.77\n",
       "13    50460.57\n",
       "14    39844.20\n",
       "15    77121.91\n",
       "16    38210.39\n",
       "17    32905.73\n",
       "18    12149.47\n",
       "19    45638.65\n",
       "20    26067.64\n",
       "21    70995.93\n",
       "22    39601.86\n",
       "23    32842.11\n",
       "24    16684.09\n",
       "25    29010.66\n",
       "26    26376.69\n",
       "27    36623.02\n",
       "28    96625.62\n",
       "29    38942.11\n",
       "30    14180.25\n",
       "31    13553.06\n",
       "Name: ChiffreAffaires, dtype: float64"
      ]
     },
     "execution_count": 385,
     "metadata": {},
     "output_type": "execute_result"
    }
   ],
   "source": [
    "data.groupby(data[\"Date\"].dt.day)[\"ChiffreAffaires\"].sum()"
   ]
  },
  {
   "cell_type": "code",
   "execution_count": 386,
   "id": "ca3eeffa",
   "metadata": {},
   "outputs": [
    {
     "data": {
      "image/png": "[encoded data removed]",
      "text/plain": [
       "<Figure size 640x480 with 1 Axes>"
      ]
     },
     "metadata": {},
     "output_type": "display_data"
    },
    {
     "name": "stdout",
     "output_type": "stream",
     "text": [
      "<class 'pandas.core.frame.DataFrame'>\n",
      "RangeIndex: 200 entries, 0 to 199\n",
      "Data columns (total 7 columns):\n",
      " #   Column           Non-Null Count  Dtype         \n",
      "---  ------           --------------  -----         \n",
      " 0   Date             200 non-null    datetime64[ns]\n",
      " 1   Produit          200 non-null    object        \n",
      " 2   Catégorie        200 non-null    object        \n",
      " 3   Quantité         200 non-null    int64         \n",
      " 4   PrixUnitaire     200 non-null    float64       \n",
      " 5   Magasin          200 non-null    object        \n",
      " 6   ChiffreAffaires  200 non-null    float64       \n",
      "dtypes: datetime64[ns](1), float64(2), int64(1), object(3)\n",
      "memory usage: 11.1+ KB\n"
     ]
    }
   ],
   "source": [
    "\n",
    "# plt.hist( data[\"Quantité\"] , bins=10 )\n",
    "\n",
    "data.plot( y=\"Quantité\" , kind=\"hist\" , bins=10 )\n",
    "\n",
    "plt.show()\n",
    "\n",
    "data.info()\n"
   ]
  },
  {
   "cell_type": "markdown",
   "id": "b1e6054c",
   "metadata": {},
   "source": [
    "# parie F preparation des donnees\n"
   ]
  },
  {
   "cell_type": "code",
   "execution_count": 387,
   "id": "db936f02",
   "metadata": {},
   "outputs": [],
   "source": [
    "modelisation_colonnes = data[ [\"Quantité\" , \"PrixUnitaire\" , \"Catégorie\" , \"Magasin\" , \"ChiffreAffaires\"] ]\n",
    "\n"
   ]
  },
  {
   "cell_type": "code",
   "execution_count": 388,
   "id": "51b7fca8",
   "metadata": {},
   "outputs": [
    {
     "name": "stdout",
     "output_type": "stream",
     "text": [
      "<class 'pandas.core.frame.DataFrame'>\n",
      "RangeIndex: 200 entries, 0 to 199\n",
      "Data columns (total 5 columns):\n",
      " #   Column           Non-Null Count  Dtype  \n",
      "---  ------           --------------  -----  \n",
      " 0   Quantité         200 non-null    int64  \n",
      " 1   PrixUnitaire     200 non-null    float64\n",
      " 2   Catégorie        200 non-null    int64  \n",
      " 3   Magasin          200 non-null    int64  \n",
      " 4   ChiffreAffaires  200 non-null    float64\n",
      "dtypes: float64(2), int64(3)\n",
      "memory usage: 7.9 KB\n"
     ]
    },
    {
     "name": "stderr",
     "output_type": "stream",
     "text": [
      "C:\\Users\\HP\\AppData\\Local\\Temp\\ipykernel_6456\\3471315038.py:6: SettingWithCopyWarning: \n",
      "A value is trying to be set on a copy of a slice from a DataFrame.\n",
      "Try using .loc[row_indexer,col_indexer] = value instead\n",
      "\n",
      "See the caveats in the documentation: https://pandas.pydata.org/pandas-docs/stable/user_guide/indexing.html#returning-a-view-versus-a-copy\n",
      "  modelisation_colonnes[\"Catégorie\"] = le.fit_transform(modelisation_colonnes[\"Catégorie\"])\n",
      "C:\\Users\\HP\\AppData\\Local\\Temp\\ipykernel_6456\\3471315038.py:7: SettingWithCopyWarning: \n",
      "A value is trying to be set on a copy of a slice from a DataFrame.\n",
      "Try using .loc[row_indexer,col_indexer] = value instead\n",
      "\n",
      "See the caveats in the documentation: https://pandas.pydata.org/pandas-docs/stable/user_guide/indexing.html#returning-a-view-versus-a-copy\n",
      "  modelisation_colonnes[\"Magasin\"] = le.fit_transform(modelisation_colonnes[\"Magasin\"])\n"
     ]
    }
   ],
   "source": [
    "from sklearn.preprocessing import LabelEncoder , StandardScaler\n",
    "\n",
    "# Create an instance of LabelEncoder\n",
    "le = LabelEncoder()\n",
    "\n",
    "modelisation_colonnes[\"Catégorie\"] = le.fit_transform(modelisation_colonnes[\"Catégorie\"])\n",
    "modelisation_colonnes[\"Magasin\"] = le.fit_transform(modelisation_colonnes[\"Magasin\"])\n",
    "\n",
    "modelisation_colonnes.info()"
   ]
  },
  {
   "cell_type": "code",
   "execution_count": null,
   "id": "65cf36c5",
   "metadata": {},
   "outputs": [
    {
     "name": "stdout",
     "output_type": "stream",
     "text": [
      "     Quantité  PrixUnitaire  Catégorie  Magasin\n",
      "0          10       1009.00          1        1\n",
      "1           2        782.86          2        3\n",
      "2          19       1159.62          1        0\n",
      "3           9        782.64          2        0\n",
      "4           7       1279.01          1        2\n",
      "..        ...           ...        ...      ...\n",
      "195        17       1122.68          0        0\n",
      "196         8        756.57          0        1\n",
      "197         2        352.16          2        1\n",
      "198         8       1349.86          1        0\n",
      "199         7        578.92          2        2\n",
      "\n",
      "[200 rows x 4 columns]\n",
      "0      10090.00\n",
      "1       1565.72\n",
      "2      22032.78\n",
      "3       7043.76\n",
      "4       8953.07\n",
      "         ...   \n",
      "195    19085.56\n",
      "196     6052.56\n",
      "197      704.32\n",
      "198    10798.88\n",
      "199     4052.44\n",
      "Name: ChiffreAffaires, Length: 200, dtype: float64\n"
     ]
    }
   ],
   "source": [
    "x_features = modelisation_colonnes[ [\"Quantité\" , \"PrixUnitaire\" , \"Catégorie\" , \"Magasin\"] ]\n",
    "y_target = modelisation_colonnes[\"ChiffreAffaires\"]\n",
    "\n",
    "print(x_features)\n",
    "print(y_target)\n"
   ]
  },
  {
   "cell_type": "markdown",
   "id": "ab562932",
   "metadata": {},
   "source": [
    "Découper le dataset en jeu d’entraînement et jeu de test (train_test_split). "
   ]
  },
  {
   "cell_type": "code",
   "execution_count": 407,
   "id": "a9285cbc",
   "metadata": {},
   "outputs": [],
   "source": [
    "from sklearn.model_selection import train_test_split , GridSearchCV\n",
    "\n",
    "scaler = StandardScaler()\n",
    "\n",
    "\n",
    "\n",
    "# shuffle => قبل ما t9sm data, خلطهم (randomize order)\n",
    "\n",
    "x_train , x_test , y_train , y_test = train_test_split( x_features , y_target ,\n",
    "                                      random_state=42,\n",
    "                                       test_size=0.25,\n",
    "                                        shuffle=True )\n",
    "\n",
    "# x_train = scaler.fit_transform(x_train)\n",
    "# x_test = scaler.fit_transform(x_test)\n",
    "\n",
    "# print('X_train : ')\n",
    "# print(x_train)\n",
    "# print('X_test : ')\n",
    "# print(x_test)\n",
    "\n",
    "\n"
   ]
  },
  {
   "cell_type": "markdown",
   "id": "9f08549b",
   "metadata": {},
   "source": [
    "Entraîner un modèle de régression linéaire pour prédire ChiffreAffaires à \n",
    "partir de Quantité, PrixUnitaire, Catégorie, Magasin. "
   ]
  },
  {
   "cell_type": "code",
   "execution_count": 408,
   "id": "d19b7ca9",
   "metadata": {},
   "outputs": [],
   "source": [
    "from sklearn.linear_model import LinearRegression\n",
    "from sklearn.metrics import mean_squared_error , r2_score \n",
    "\n",
    "# Création et entraînement du modèle de régression linéaire\n",
    "model = LinearRegression()\n",
    "model.fit( x_train , y_train )\n",
    "\n",
    "\n",
    "# Prédictions sur l'ensemble de test\n",
    "y_pred = model.predict(x_test)"
   ]
  },
  {
   "cell_type": "markdown",
   "id": "fb259a7c",
   "metadata": {},
   "source": [
    " Évaluer la performance du modèle. (Score) \n",
    " "
   ]
  },
  {
   "cell_type": "code",
   "execution_count": 409,
   "id": "c3328f97",
   "metadata": {},
   "outputs": [
    {
     "name": "stdout",
     "output_type": "stream",
     "text": [
      "Évaluation\n",
      " mse : 5593350.80\n",
      " r2 : 0.87\n"
     ]
    }
   ],
   "source": [
    "# Évaluation du modèle\n",
    "\n",
    "mse = mean_squared_error(y_test,y_pred)\n",
    "r2 = r2_score(y_test,y_pred)\n",
    "\n",
    "print(\"Évaluation\")\n",
    "print(f\" mse : {mse:.2f}\")\n",
    "print(f\" r2 : {r2:.2f}\")\n"
   ]
  },
  {
   "cell_type": "code",
   "execution_count": 405,
   "id": "a2b70173",
   "metadata": {},
   "outputs": [
    {
     "data": {
      "text/plain": [
       "[<matplotlib.lines.Line2D at 0x1da036a3250>]"
      ]
     },
     "execution_count": 405,
     "metadata": {},
     "output_type": "execute_result"
    },
    {
     "data": {
      "image/png": "[encoded data removed]",
      "text/plain": [
       "<Figure size 640x480 with 1 Axes>"
      ]
     },
     "metadata": {},
     "output_type": "display_data"
    }
   ],
   "source": [
    "plt.scatter(y_test,y_pred)\n",
    "plt.plot([y_test.min(),y_test.max()],\n",
    "        [y_test.min(),y_test.max()], 'r--' , linewidth = 4)\n",
    "\n",
    "# print(y_pred)"
   ]
  },
  {
   "cell_type": "markdown",
   "id": "f4fdab09",
   "metadata": {},
   "source": [
    " Tester une autre méthode (ex. RandomForestRegressor) et comparer les \n",
    "résultats."
   ]
  },
  {
   "cell_type": "code",
   "execution_count": 418,
   "id": "8f6547ef",
   "metadata": {},
   "outputs": [
    {
     "name": "stdout",
     "output_type": "stream",
     "text": [
      "Évaluation\n",
      " mse : 617889.84\n",
      " r2 : 0.99\n"
     ]
    }
   ],
   "source": [
    "from sklearn.ensemble import RandomForestRegressor\n",
    "\n",
    "# creation du model\n",
    "forest_model = RandomForestRegressor()\n",
    "\n",
    "# param_grid = {\n",
    "#     \"n_estimators\" : [ 50 , 100 , 200 ],\n",
    "#     \"max_depth\" : [ 3 , 5 , 10 ]\n",
    "# }\n",
    "\n",
    "# grid_search = GridSearchCV(\n",
    "#     estimator=forest_model,\n",
    "#     param_grid=param_grid,\n",
    "#     cv=5,\n",
    "#     scoring='r2',\n",
    "#     n_jobs=-1\n",
    "# )\n",
    "\n",
    "forest_model.fit(x_train,y_train)\n",
    "\n",
    "# grid_search.fit(x_train,y_train)\n",
    "\n",
    "y_forest_pred = forest_model.predict(x_test)\n",
    "\n",
    "# print(\"Meilleurs paramètres :\", grid_search.best_params_)\n",
    "# print(\"Meilleure performance :\", grid_search.best_score_)\n",
    "\n",
    "# Évaluation du modèle\n",
    "\n",
    "f_mse = mean_squared_error(y_test,y_forest_pred)\n",
    "f_r2 = r2_score(y_test,y_forest_pred)\n",
    "\n",
    "print(\"Évaluation\")\n",
    "print(f\" mse : {f_mse:.2f}\")\n",
    "print(f\" r2 : {f_r2:.2f}\")\n",
    "\n"
   ]
  },
  {
   "cell_type": "markdown",
   "id": "07259aad",
   "metadata": {},
   "source": [
    "# chart"
   ]
  },
  {
   "cell_type": "code",
   "execution_count": 419,
   "id": "de4d20f2",
   "metadata": {},
   "outputs": [
    {
     "data": {
      "text/plain": [
       "[<matplotlib.lines.Line2D at 0x1da0579dd10>]"
      ]
     },
     "execution_count": 419,
     "metadata": {},
     "output_type": "execute_result"
    },
    {
     "data": {
      "image/png": "[encoded data removed]",
      "text/plain": [
       "<Figure size 640x480 with 1 Axes>"
      ]
     },
     "metadata": {},
     "output_type": "display_data"
    }
   ],
   "source": [
    "plt.scatter(y_test,y_forest_pred)\n",
    "plt.plot([y_test.min(),y_test.max()],\n",
    "        [y_test.min(),y_test.max()], 'r--' , linewidth = 4)"
   ]
  },
  {
   "cell_type": "code",
   "execution_count": 426,
   "id": "b3c508e7",
   "metadata": {},
   "outputs": [
    {
     "name": "stdout",
     "output_type": "stream",
     "text": [
      "     Real Data  Predicted Data\n",
      "95      963.33        958.0591\n",
      "15     3550.96       3393.6280\n",
      "30    22244.00      22257.0688\n",
      "158   19304.87      16909.3892\n",
      "128   16210.26      15006.7994\n",
      "115    4553.15       4640.0278\n",
      "69     1252.03       1646.6237\n",
      "170   13029.48      10867.3025\n",
      "174    1655.64       1878.2901\n",
      "45     1384.55       1719.7154\n",
      "66      763.38        991.5833\n",
      "182    2496.70       2522.1050\n",
      "165    7810.11       7503.6897\n",
      "78    10574.07       9059.4715\n",
      "186   11017.72      10336.8108\n",
      "177    4319.20       4316.9900\n",
      "56      412.83        516.3358\n",
      "152   13761.70      11391.4517\n",
      "82      382.39        556.9516\n",
      "68    19343.80      17861.6267\n",
      "124   20184.90      19117.4383\n",
      "16       80.22        443.0816\n",
      "148   12850.32      13222.3214\n",
      "93      665.19       1530.6113\n",
      "65    16043.07      16126.6654\n",
      "60     8243.70       7998.0377\n",
      "84     9403.31       9536.7739\n",
      "67     9177.00       9397.5545\n",
      "125     124.95        486.5475\n",
      "132   10391.44      10352.7485\n",
      "9       821.40        965.1491\n",
      "18     3547.72       4041.6406\n",
      "55     1348.15       1723.9591\n",
      "75     2794.30       3369.9751\n",
      "150    5243.70       5680.9249\n",
      "104   10503.61      11214.3283\n",
      "135    2083.84       2242.3836\n",
      "137   11155.36      10100.7043\n",
      "164   15223.16      14931.1484\n",
      "76     3646.80       3669.5491\n",
      "79     5571.92       5661.0116\n",
      "197     704.32        813.8464\n",
      "38     4368.24       4688.0316\n",
      "24    20001.52      20184.6425\n",
      "122    7330.74       6641.6199\n",
      "195   19085.56      18516.7877\n",
      "29     3822.79       4201.6057\n",
      "19    10645.20       9415.2960\n",
      "143    4400.10       3953.7301\n",
      "86     3202.04       3379.6075\n"
     ]
    }
   ],
   "source": [
    "dp_forest = pd.DataFrame({\n",
    "    \"Real Data\" : y_test,\n",
    "    \"Predicted Data\" : y_forest_pred\n",
    "})\n",
    "\n",
    "dp_linear = pd.DataFrame({\n",
    "    \"Real Data\" : y_test,\n",
    "    \"Predicted Data\" : y_pred\n",
    "})\n",
    "\n",
    "print(dp_forest)"
   ]
  },
  {
   "cell_type": "code",
   "execution_count": null,
   "id": "13dc1058",
   "metadata": {},
   "outputs": [],
   "source": []
  }
 ],
 "metadata": {
  "kernelspec": {
   "display_name": "pandas-first-env",
   "language": "python",
   "name": "python3"
  },
  "language_info": {
   "codemirror_mode": {
    "name": "ipython",
    "version": 3
   },
   "file_extension": ".py",
   "mimetype": "text/x-python",
   "name": "python",
   "nbconvert_exporter": "python",
   "pygments_lexer": "ipython3",
   "version": "3.13.7"
  }
 },
 "nbformat": 4,
 "nbformat_minor": 5
}
